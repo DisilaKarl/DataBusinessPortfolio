{
  "nbformat": 4,
  "nbformat_minor": 0,
  "metadata": {
    "colab": {
      "provenance": []
    },
    "kernelspec": {
      "name": "python3",
      "display_name": "Python 3"
    },
    "language_info": {
      "name": "python"
    }
  },
  "cells": [
    {
      "cell_type": "markdown",
      "source": [
        "Ce projet vise à prédire les ventes futures à partir de données historiques. L'idée est d'utiliser les techniques de machine learning pour fournir des prédictions plus précises, ce qui peut aider à optimiser la gestion des stocks et à améliorer les stratégies de marketing."
      ],
      "metadata": {
        "id": "2Lu0-O9-QgUz"
      }
    },
    {
      "cell_type": "code",
      "execution_count": 1,
      "metadata": {
        "id": "n5EQaA37PvFc"
      },
      "outputs": [],
      "source": [
        "# Import Bibliothèque\n",
        "\n",
        "import pandas as pd\n",
        "import numpy as np\n",
        "import matplotlib.pyplot as plt\n",
        "import seaborn as sns\n",
        "from sklearn.model_selection import train_test_split\n",
        "from sklearn.linear_model import LinearRegression\n",
        "from sklearn.metrics import mean_squared_error\n"
      ]
    },
    {
      "cell_type": "code",
      "source": [
        "# Charger les données\n",
        "df = pd.read_csv('/content/car_purchasing.csv', encoding='latin-1') # Try 'latin-1' encoding\n",
        "\n",
        "print(df.head())\n"
      ],
      "metadata": {
        "colab": {
          "base_uri": "https://localhost:8080/"
        },
        "id": "62fEpSJaQmnF",
        "outputId": "2c566134-e002-46e9-b115-695734cab3f1"
      },
      "execution_count": 8,
      "outputs": [
        {
          "output_type": "stream",
          "name": "stdout",
          "text": [
            "     customer name                                    customer e-mail  \\\n",
            "0    Martina Avila  cubilia.Curae.Phasellus@quisaccumsanconvallis.edu   \n",
            "1    Harlan Barnes                                eu.dolor@diam.co.uk   \n",
            "2  Naomi Rodriquez  vulputate.mauris.sagittis@ametconsectetueradip...   \n",
            "3  Jade Cunningham                            malesuada@dignissim.com   \n",
            "4     Cedric Leach     felis.ullamcorper.viverra@egetmollislectus.net   \n",
            "\n",
            "        country  gender        age  annual Salary  credit card debt  \\\n",
            "0      Bulgaria       0  41.851720    62812.09301      11609.380910   \n",
            "1        Belize       0  40.870623    66646.89292       9572.957136   \n",
            "2       Algeria       1  43.152897    53798.55112      11160.355060   \n",
            "3  Cook Islands       1  58.271369    79370.03798      14426.164850   \n",
            "4        Brazil       1  57.313749    59729.15130       5358.712177   \n",
            "\n",
            "     net worth  car purchase amount  \n",
            "0  238961.2505          35321.45877  \n",
            "1  530973.9078          45115.52566  \n",
            "2  638467.1773          42925.70921  \n",
            "3  548599.0524          67422.36313  \n",
            "4  560304.0671          55915.46248  \n"
          ]
        }
      ]
    },
    {
      "cell_type": "code",
      "source": [
        "# Nettoyage des données - Supprimer les lignes avec des valeurs manquantes\n",
        "df = df.dropna()\n",
        "\n",
        "# Get actual column names containing 'customer name'\n",
        "customer_name_cols = [col for col in df.columns if 'customer name' in col]\n",
        "\n",
        "# Drop unnecessary customer name columns if they exist\n",
        "unwanted_cols = ['customer name_Abigail X. Lindsey', 'customer name_Abra D. Golden',\n",
        "                 'customer name_Adria Mathis', 'customer name_Adrian Brock']\n",
        "existing_unwanted_cols = [col for col in unwanted_cols if col in customer_name_cols]\n",
        "if existing_unwanted_cols:\n",
        "    df.drop(columns=existing_unwanted_cols, inplace=True)\n",
        "else:\n",
        "    print(\"Warning: Some or all of the specified customer name columns were not found.\")\n",
        "\n",
        "# Supprimer des colonnes de pays ou autres caractéristiques non pertinentes\n",
        "df.drop(columns=[col for col in df.columns if 'country' in col], inplace=True)\n",
        "\n",
        "# Encodage des variables catégorielles\n",
        "df = pd.get_dummies(df, drop_first=True)  # Pour les variables comme 'gender', 'country', etc.\n",
        "\n",
        "# Vérification des premières lignes après nettoyage\n",
        "print(df.head())"
      ],
      "metadata": {
        "colab": {
          "base_uri": "https://localhost:8080/"
        },
        "collapsed": true,
        "id": "zsbo119NSAI_",
        "outputId": "c7ec59fc-4669-45e1-edc9-344347ca55b6"
      },
      "execution_count": 11,
      "outputs": [
        {
          "output_type": "stream",
          "name": "stdout",
          "text": [
            "   gender        age  annual Salary  credit card debt    net worth  \\\n",
            "0       0  41.851720    62812.09301      11609.380910  238961.2505   \n",
            "1       0  40.870623    66646.89292       9572.957136  530973.9078   \n",
            "2       1  43.152897    53798.55112      11160.355060  638467.1773   \n",
            "3       1  58.271369    79370.03798      14426.164850  548599.0524   \n",
            "4       1  57.313749    59729.15130       5358.712177  560304.0671   \n",
            "\n",
            "   car purchase amount  customer name_Adrienne  customer name_Adrienne Bolton  \\\n",
            "0          35321.45877                   False                          False   \n",
            "1          45115.52566                   False                          False   \n",
            "2          42925.70921                   False                          False   \n",
            "3          67422.36313                   False                          False   \n",
            "4          55915.46248                   False                          False   \n",
            "\n",
            "   customer name_Ahmed Wright  customer name_Aileen  ...  \\\n",
            "0                       False                 False  ...   \n",
            "1                       False                 False  ...   \n",
            "2                       False                 False  ...   \n",
            "3                       False                 False  ...   \n",
            "4                       False                 False  ...   \n",
            "\n",
            "   customer e-mail_vestibulum.nec.euismod@netusetmalesuada.ca  \\\n",
            "0                                              False            \n",
            "1                                              False            \n",
            "2                                              False            \n",
            "3                                              False            \n",
            "4                                              False            \n",
            "\n",
            "   customer e-mail_vestibulum@metus.org  \\\n",
            "0                                 False   \n",
            "1                                 False   \n",
            "2                                 False   \n",
            "3                                 False   \n",
            "4                                 False   \n",
            "\n",
            "   customer e-mail_vitae.erat@urnaNullamlobortis.ca  \\\n",
            "0                                             False   \n",
            "1                                             False   \n",
            "2                                             False   \n",
            "3                                             False   \n",
            "4                                             False   \n",
            "\n",
            "   customer e-mail_vitae.risus.Duis@hymenaeos.edu  \\\n",
            "0                                           False   \n",
            "1                                           False   \n",
            "2                                           False   \n",
            "3                                           False   \n",
            "4                                           False   \n",
            "\n",
            "   customer e-mail_vitae.semper.egestas@montesnascetur.co.uk  \\\n",
            "0                                              False           \n",
            "1                                              False           \n",
            "2                                              False           \n",
            "3                                              False           \n",
            "4                                              False           \n",
            "\n",
            "   customer e-mail_vitae.sodales.at@molestiearcuSed.org  \\\n",
            "0                                              False      \n",
            "1                                              False      \n",
            "2                                              False      \n",
            "3                                              False      \n",
            "4                                              False      \n",
            "\n",
            "   customer e-mail_vitae@nisl.net  \\\n",
            "0                           False   \n",
            "1                           False   \n",
            "2                           False   \n",
            "3                           False   \n",
            "4                           False   \n",
            "\n",
            "   customer e-mail_volutpat.Nulla.facilisis@primis.ca  \\\n",
            "0                                              False    \n",
            "1                                              False    \n",
            "2                                              False    \n",
            "3                                              False    \n",
            "4                                              False    \n",
            "\n",
            "   customer e-mail_vulputate.mauris.sagittis@ametconsectetueradipiscing.co.uk  \\\n",
            "0                                              False                            \n",
            "1                                              False                            \n",
            "2                                               True                            \n",
            "3                                              False                            \n",
            "4                                              False                            \n",
            "\n",
            "   customer e-mail_vulputate.mauris.sagittis@orciluctus.com  \n",
            "0                                              False         \n",
            "1                                              False         \n",
            "2                                              False         \n",
            "3                                              False         \n",
            "4                                              False         \n",
            "\n",
            "[5 rows x 998 columns]\n"
          ]
        }
      ]
    },
    {
      "cell_type": "code",
      "source": [
        "# Sélectionner les variables indépendantes (features) et la variable cible\n",
        "X = df[['age', 'annual Salary', 'credit card debt', 'net worth']]  # Choisir des features pertinentes\n",
        "y = df['car purchase amount']  # Variable cible"
      ],
      "metadata": {
        "id": "8_e8tSbaSOCb"
      },
      "execution_count": 12,
      "outputs": []
    },
    {
      "cell_type": "code",
      "source": [
        "# Diviser les données en ensemble d'entraînement et de test\n",
        "X_train, X_test, y_train, y_test = train_test_split(X, y, test_size=0.2, random_state=42)"
      ],
      "metadata": {
        "id": "ZS3921r6STDa"
      },
      "execution_count": 13,
      "outputs": []
    },
    {
      "cell_type": "code",
      "source": [
        "# Créer et entraîner le modèle de régression linéaire\n",
        "model = LinearRegression()\n",
        "model.fit(X_train, y_train)\n",
        "\n",
        "# Faire des prédictions sur les données de test\n",
        "y_pred = model.predict(X_test)\n",
        "\n",
        "# Évaluation du modèle (calcul du RMSE)\n",
        "rmse = np.sqrt(mean_squared_error(y_test, y_pred))\n",
        "print(f'Root Mean Squared Error: {rmse}')"
      ],
      "metadata": {
        "colab": {
          "base_uri": "https://localhost:8080/"
        },
        "id": "9qB8OeW9SWeP",
        "outputId": "9fe58121-5e0b-4323-f79e-78aca5ab2034"
      },
      "execution_count": 14,
      "outputs": [
        {
          "output_type": "stream",
          "name": "stdout",
          "text": [
            "Root Mean Squared Error: 1.4386814760264848\n"
          ]
        }
      ]
    },
    {
      "cell_type": "code",
      "source": [
        "# Visualisation des résultats\n",
        "plt.figure(figsize=(10, 6))\n",
        "plt.scatter(y_test, y_pred)\n",
        "plt.xlabel('True Values')\n",
        "plt.ylabel('Predictions')\n",
        "plt.title('True vs Predicted Car Purchase Amount')\n",
        "plt.show()"
      ],
      "metadata": {
        "colab": {
          "base_uri": "https://localhost:8080/",
          "height": 564
        },
        "id": "rHbZdJyjSYm9",
        "outputId": "7b9473ba-93ca-4a95-ce04-968d037d8002"
      },
      "execution_count": 15,
      "outputs": [
        {
          "output_type": "display_data",
          "data": {
            "text/plain": [
              "<Figure size 1000x600 with 1 Axes>"
            ],
            "image/png": "[encoded data removed]"
          },
          "metadata": {}
        }
      ]
    },
    {
      "cell_type": "code",
      "source": [
        "# Affichage des coefficients du modèle pour interprétation\n",
        "print(f\"Coefficients: {model.coef_}\")\n",
        "print(f\"Intercept: {model.intercept_}\")"
      ],
      "metadata": {
        "colab": {
          "base_uri": "https://localhost:8080/"
        },
        "id": "0X12Au-bSdH7",
        "outputId": "365da379-631a-4aac-e08d-1a528cb7754f"
      },
      "execution_count": 16,
      "outputs": [
        {
          "output_type": "stream",
          "name": "stdout",
          "text": [
            "Coefficients: [ 8.41562428e+02  5.62334404e-01 -2.42688998e-05  2.89834774e-02]\n",
            "Intercept: -42147.154623960065\n"
          ]
        }
      ]
    }
  ]
}